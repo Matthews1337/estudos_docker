{
 "cells": [
  {
   "cell_type": "markdown",
   "metadata": {},
   "source": [
    "# O que é Docker?"
   ]
  },
  {
   "cell_type": "markdown",
   "metadata": {},
   "source": [
    "* > Docker é um software que reduz a complexidade de setup de aplicações\n",
    "* > Onde configuramos containers, que são como servidores para rodar nossas aplicações\n",
    "* > Com facilidade, podemos criar ambientes independentes e que funcionam em diversos sistemas operacionais"
   ]
  },
  {
   "cell_type": "markdown",
   "metadata": {},
   "source": [
    "# Testando o Docker"
   ]
  },
  {
   "cell_type": "markdown",
   "metadata": {},
   "source": [
    "Comando para baixar a imagem: `docker pull nome_imagem`\n",
    "\n",
    "Comando para rodar o container: `docker run nome_container`"
   ]
  }
 ],
 "metadata": {
  "language_info": {
   "name": "python"
  }
 },
 "nbformat": 4,
 "nbformat_minor": 2
}
